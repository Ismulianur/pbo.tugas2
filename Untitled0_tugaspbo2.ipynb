{
  "nbformat": 4,
  "nbformat_minor": 0,
  "metadata": {
    "colab": {
      "provenance": [],
      "authorship_tag": "ABX9TyOrG2S3Eckvy8TIwzcTib2/",
      "include_colab_link": true
    },
    "kernelspec": {
      "name": "python3",
      "display_name": "Python 3"
    },
    "language_info": {
      "name": "python"
    }
  },
  "cells": [
    {
      "cell_type": "markdown",
      "metadata": {
        "id": "view-in-github",
        "colab_type": "text"
      },
      "source": [
        "<a href=\"https://colab.research.google.com/github/Ismulianur/pbo.tugas2/blob/main/Untitled0_tugaspbo2.ipynb\" target=\"_parent\"><img src=\"https://colab.research.google.com/assets/colab-badge.svg\" alt=\"Open In Colab\"/></a>"
      ]
    },
    {
      "cell_type": "code",
      "execution_count": null,
      "metadata": {
        "colab": {
          "base_uri": "https://localhost:8080/"
        },
        "id": "4Zv3OOzOoFHy",
        "outputId": "99bdb050-b1bd-46c0-d247-0833c214f0a7"
      },
      "outputs": [
        {
          "output_type": "stream",
          "name": "stdout",
          "text": [
            "Nama: Andi, NIM: 230908009\n",
            "Luas Persegi Panjang: 50\n",
            "Buku 'Laskar Pelangi' ditulis oleh Andrea Hirata.\n",
            "Setor 100000. Saldo sekarang: 600000\n",
            "Tarik 200000. Saldo sekarang: 400000\n",
            "Milo bersuara: Meong!\n"
          ]
        }
      ],
      "source": [
        "# class mahasiswa\n",
        "class Mahasiswa:\n",
        "    def __init__(self, nama, nim):\n",
        "        self.nama = nama\n",
        "        self.nim = nim\n",
        "\n",
        "    def tampilkan_info(self):\n",
        "        print(f\"Nama: {self.nama}, NIM: {self.nim}\")\n",
        "\n",
        "mahasiswa1 = Mahasiswa(\"Andi\", \"230908009\")\n",
        "mahasiswa1.tampilkan_info()\n",
        "\n",
        "# class untuk menghitung persegi panjang\n",
        "class PersegiPanjang:\n",
        "    def __init__(self, panjang, lebar):\n",
        "        self.panjang = panjang\n",
        "        self.lebar = lebar\n",
        "\n",
        "    def hitung_luas(self):\n",
        "        return self.panjang * self.lebar\n",
        "\n",
        "persegi1 = PersegiPanjang(10, 5)\n",
        "print(\"Luas Persegi Panjang:\", persegi1.hitung_luas())\n",
        "\n",
        "# class untuk menyimpan data buku\n",
        "class Buku:\n",
        "    def __init__(self, judul, penulis):\n",
        "        self.judul = judul\n",
        "        self.penulis = penulis\n",
        "\n",
        "    def deskripsi(self):\n",
        "        return f\"Buku '{self.judul}' ditulis oleh {self.penulis}.\"\n",
        "\n",
        "buku1 = Buku(\"Laskar Pelangi\", \"Andrea Hirata\")\n",
        "print(buku1.deskripsi())\n",
        "\n",
        "# class untuk simulasi akun bank\n",
        "class AkunBank:\n",
        "    def __init__(self, nama, saldo):\n",
        "        self.nama = nama\n",
        "        self.saldo = saldo\n",
        "\n",
        "    def setor(self, jumlah):\n",
        "        self.saldo += jumlah\n",
        "        print(f\"Setor {jumlah}. Saldo sekarang: {self.saldo}\")\n",
        "\n",
        "    def tarik(self, jumlah):\n",
        "        if jumlah > self.saldo:\n",
        "            print(\"Saldo tidak cukup!\")\n",
        "        else:\n",
        "            self.saldo -= jumlah\n",
        "            print(f\"Tarik {jumlah}. Saldo sekarang: {self.saldo}\")\n",
        "\n",
        "akun1 = AkunBank(\"Budi\", 500000)\n",
        "akun1.setor(100000)\n",
        "akun1.tarik(200000)\n",
        "\n",
        "# class untuk mengelola hewan peliharaan\n",
        "class HewanPeliharaan:\n",
        "    def __init__(self, nama, jenis):\n",
        "        self.nama = nama\n",
        "        self.jenis = jenis\n",
        "\n",
        "    def bersuara(self):\n",
        "        if self.jenis == \"kucing\":\n",
        "            return \"Meong!\"\n",
        "        elif self.jenis == \"anjing\":\n",
        "            return \"Guk guk!\"\n",
        "        else:\n",
        "            return \"Hewan ini tidak diketahui suaranya.\"\n",
        "\n",
        "hewan1 = HewanPeliharaan(\"Milo\", \"kucing\")\n",
        "print(f\"{hewan1.nama} bersuara: {hewan1.bersuara()}\")\n"
      ]
    }
  ]
}